{
 "cells": [
  {
   "cell_type": "markdown",
   "id": "bff106d8",
   "metadata": {},
   "source": [
    "# NOM & PRENOM : LONMADON Géofroid"
   ]
  },
  {
   "cell_type": "markdown",
   "id": "9a85ff06",
   "metadata": {},
   "source": [
    "# Assignment 2 - Collective communications "
   ]
  },
  {
   "cell_type": "markdown",
   "id": "291bd88c",
   "metadata": {},
   "source": [
    "# Exercise 1: Parallel Monte Carlo for PI"
   ]
  },
  {
   "cell_type": "markdown",
   "id": "90868fef",
   "metadata": {},
   "source": [
    "Implement a parallel version of Monte Carlo using the function above:\n",
    "\n",
    "Ensure your program works correctly if N is not an exact multiple of the number of processes P"
   ]
  },
  {
   "cell_type": "code",
   "execution_count": 68,
   "id": "7b7b76ea",
   "metadata": {},
   "outputs": [
    {
     "name": "stdout",
     "output_type": "stream",
     "text": [
      "Overwriting mcpi.py\n"
     ]
    }
   ],
   "source": [
    "%%file mcpi.py\n",
    "\n",
    "from mpi4py import MPI\n",
    "import random\n",
    "\n",
    "def compute_points(INTERVAL):\n",
    "    \n",
    "    random.seed(42)  \n",
    "    \n",
    "    circle_points= 0\n",
    "    total_points=0\n",
    "\n",
    "    # Total Random numbers generated= possible x \n",
    "    # values* possible y values \n",
    "    for i in range(INTERVAL**2): \n",
    "      \n",
    "        # Randomly generated x and y values from a \n",
    "        # uniform distribution \n",
    "        # Range of x and y values is -1 to 1 \n",
    "        \n",
    "        rand_x= random.uniform(-1, 1) \n",
    "        rand_y= random.uniform(-1, 1) \n",
    "      \n",
    "        # Distance between (x, y) from the origin \n",
    "        origin_dist= rand_x**2 + rand_y**2\n",
    "      \n",
    "        # Checking if (x, y) lies inside the circle \n",
    "        if origin_dist<= 1: \n",
    "            circle_points+= 1\n",
    "        \n",
    "        total_points+=1\n",
    "    \n",
    "    return circle_points, total_points\n",
    "\n",
    "COMM = MPI.COMM_WORLD\n",
    "RANK = COMM.Get_rank()\n",
    "SIZE = COMM.Get_size()\n",
    "\n",
    "if RANK==0:\n",
    "    INTERVAL = 1000\n",
    "    inter = INTERVAL // SIZE\n",
    "    reste = INTERVAL % SIZE\n",
    "    intervals = [inter for i in range(SIZE)]\n",
    "\n",
    "    for i in range(reste):\n",
    "        intervals[i] += 1\n",
    "        \n",
    "else:\n",
    "    intervals = None\n",
    "\n",
    "interval_loc = COMM.scatter(intervals, root=0)\n",
    "    \n",
    "print(f\"I, process {RANK}, I have {interval_loc}\")\n",
    "    \n",
    "numbers = compute_points(interval_loc)\n",
    "circle_points = COMM.reduce(numbers[0], op=MPI.SUM, root=0)\n",
    "total_points = COMM.reduce(numbers[1], op=MPI.SUM, root=0)\n",
    "\n",
    "if RANK==0:\n",
    "    pi = 4*(circle_points/total_points)\n",
    "    print(f\"I, process {RANK}, pi is {pi}\")"
   ]
  },
  {
   "cell_type": "code",
   "execution_count": 69,
   "id": "6932139c",
   "metadata": {},
   "outputs": [
    {
     "name": "stdout",
     "output_type": "stream",
     "text": [
      "I, process 1, I have 333\n",
      "I, process 2, I have 333\n",
      "I, process 0, I have 334\n",
      "I, process 0, pi is 3.1414617170765657\n"
     ]
    }
   ],
   "source": [
    "!mpiexec -n 3 python mcpi.py"
   ]
  },
  {
   "cell_type": "markdown",
   "id": "2e35d7ce",
   "metadata": {},
   "source": [
    "# Exercise 2 Parallel Stochastic Gradient Descent for Linear Regression"
   ]
  },
  {
   "cell_type": "markdown",
   "id": "292e2e1a",
   "metadata": {},
   "source": [
    "Implement a parallel version of Stochastic Gradient Descent (SGD) for linear regression using MPI. The goal is to distribute the dataset across multiple MPI processes, perform local updates (gradient descent steps) on each process, and periodically synchronize the model parameters across all processes.\n",
    "\n",
    "Ensure your program works correctly if N is not an exact multiple of the number of processes P\n",
    "\n",
    "Dataset: Use a synthetic dataset for simplicity. You can generate a dataset with a single feature and a linear relationship with the target variable. For example, you can model the relationship y = 2x + noise, where noise is some Gaussian noise."
   ]
  },
  {
   "cell_type": "code",
   "execution_count": 70,
   "id": "5181fad4",
   "metadata": {},
   "outputs": [
    {
     "name": "stdout",
     "output_type": "stream",
     "text": [
      "Overwriting sgd4lr.py\n"
     ]
    }
   ],
   "source": [
    "%%file sgd4lr.py\n",
    "\n",
    "from mpi4py import MPI\n",
    "import numpy as np\n",
    "import matplotlib.pyplot as plt\n",
    "\n",
    "COMM = MPI.COMM_WORLD\n",
    "RANK = COMM.Get_rank()\n",
    "SIZE = COMM.Get_size()\n",
    "\n",
    "def compute_gradient(data, labels, weight):\n",
    "    predictions = data * weight\n",
    "    errors = predictions - labels\n",
    "    gradient = 2 * np.dot(data, errors) / len(data)\n",
    "    return gradient\n",
    "\n",
    "def generate_data(n_samples, with_noise = True):\n",
    "    x = np.random.rand(n_samples)\n",
    "    y = 2*x + np.random.normal(loc=0, scale=1, size=len(x)) if with_noise else 0\n",
    "    return x,y\n",
    "\n",
    "np.random.seed(42)\n",
    "itrs = 100\n",
    "eps = 0.001\n",
    "\n",
    "if RANK==0:\n",
    "    n_samples = 100000\n",
    "    x,y = generate_data(n_samples, True)\n",
    "    x_loc = np.array_split(x,SIZE)\n",
    "    y_loc = np.array_split(y,SIZE)\n",
    "    \n",
    "    weight = np.random.rand()\n",
    "\n",
    "else:\n",
    "    x_loc = None\n",
    "    y_loc = None\n",
    "    weight = None\n",
    "    \n",
    "x_loc = COMM.scatter(x_loc, root=0)\n",
    "y_loc = COMM.scatter(y_loc, root=0)\n",
    "weight = COMM.bcast(weight, root=0)\n",
    "\n",
    "for i in range(itrs):\n",
    "    gradient = compute_gradient(x_loc, y_loc, weight)\n",
    "    sum_gradient = COMM.allreduce(gradient, op=MPI.SUM)\n",
    "    COMM.Barrier()\n",
    "    weight -= eps*sum_gradient\n",
    "    \n",
    "COMM.Barrier()\n",
    "\n",
    "if RANK==0:\n",
    "    print(f\"Final model parameters (weight) is {weight}\")\n",
    "    "
   ]
  },
  {
   "cell_type": "code",
   "execution_count": 71,
   "id": "3e9c471b",
   "metadata": {},
   "outputs": [
    {
     "name": "stdout",
     "output_type": "stream",
     "text": [
      "Final model parameters (weight) is 0.7262866557328479\n"
     ]
    }
   ],
   "source": [
    "!mpiexec -n 3 python sgd4lr.py"
   ]
  },
  {
   "cell_type": "markdown",
   "id": "7b029db3",
   "metadata": {},
   "source": [
    "# Exercise 3: Matrix vector product"
   ]
  },
  {
   "cell_type": "markdown",
   "id": "ca149beb",
   "metadata": {},
   "source": [
    "1. Use the code above to implement the MPI version of matrix-vector multiplication.\n",
    "\n",
    "2. Ensure your program works correctly if N is not an exact multiple of the number of processes P\n",
    "\n",
    "3. Process 0 compares the result with the dot product.\n",
    "\n",
    "4. Plot the scalability of your implementation.\n",
    "\n"
   ]
  },
  {
   "cell_type": "code",
   "execution_count": 2,
   "id": "10681a68",
   "metadata": {
    "ExecuteTime": {
     "end_time": "2024-05-19T12:26:24.036363Z",
     "start_time": "2024-05-19T12:26:24.011876Z"
    }
   },
   "outputs": [
    {
     "name": "stdout",
     "output_type": "stream",
     "text": [
      "Overwriting exercise3MVP.py\n"
     ]
    }
   ],
   "source": [
    "%%file exercise3MVP.py\n",
    "\n",
    "import numpy as np\n",
    "from scipy.sparse import lil_matrix\n",
    "from numpy.random import rand, seed\n",
    "from numba import njit\n",
    "from mpi4py import MPI\n",
    "\n",
    "''' This program compute parallel csc matrix vector multiplication using mpi '''\n",
    "\n",
    "COMM = MPI.COMM_WORLD\n",
    "nbOfproc = COMM.Get_size()\n",
    "RANK = COMM.Get_rank()\n",
    "\n",
    "seed(42)\n",
    "\n",
    "def matrixVectorMult(A, b, x):\n",
    "    \n",
    "    row, col = A.shape\n",
    "    for i in range(row):\n",
    "        a = A[i]\n",
    "        for j in range(col):\n",
    "            x[i] += a[j] * b[j]\n",
    "\n",
    "    return 0\n",
    "\n",
    "########################initialize matrix A and vector b ######################\n",
    "#matrix sizes\n",
    "SIZE = 1000\n",
    "Local_size = SIZE//nbOfproc\n",
    "reste = SIZE % nbOfproc\n",
    "\n",
    "if RANK < reste:\n",
    "    Local_size += 1\n",
    "\n",
    "# counts = block of each proc\n",
    "counts = COMM.allgather(Local_size*SIZE)\n",
    "counts=np.array(counts)\n",
    "\n",
    "if RANK == 0:\n",
    "    \"\"\"A = np.array([\n",
    "    [1, 2, 0, 0],\n",
    "    [0, 3, 4, 0],\n",
    "    [5, 0, 0, 6],\n",
    "    [0, 0, 7, 8]], dtype=np.double)\"\"\"\n",
    "    A = lil_matrix((SIZE, SIZE))\n",
    "    A[0, :100] = rand(100)\n",
    "    A[1, 100:200] = A[0, :100]\n",
    "    A.setdiag(rand(SIZE))\n",
    "    A = A.toarray()\n",
    "    b = rand(SIZE)\n",
    "else :\n",
    "    A = None\n",
    "    b = None\n",
    "    \n",
    "b = COMM.bcast(b, root=0)\n",
    "\n",
    "#########Send b to all procs and scatter A (each proc has its own local matrix#####\n",
    "LocalMatrix = np.zeros((Local_size, SIZE), dtype=np.double)\n",
    "# Scatter the matrix A\n",
    "COMM.Scatterv([A, counts, MPI.DOUBLE], LocalMatrix, root=0)\n",
    "print(f\"{RANK}, got this\\n {LocalMatrix} \\n\")\n",
    "\n",
    "#####################Compute A*b locally#######################################\n",
    "LocalX = np.zeros(Local_size)\n",
    "#print(f\"{RANK}, got this {LocalX} \\n\")\n",
    "\n",
    "\n",
    "start = MPI.Wtime()\n",
    "matrixVectorMult(LocalMatrix, b, LocalX)\n",
    "stop = MPI.Wtime()\n",
    "\n",
    "maxTime = COMM.reduce((stop - start)*1000, op=MPI.MAX, root=0)\n",
    "\n",
    "if RANK==0:\n",
    "    with open('CPU_time.txt', 'a') as fichier:\n",
    "        fichier.write(str(maxTime)+\" \")\n",
    "\n",
    "if RANK == 0:\n",
    "    print(\"CPU time of parallel multiplication is \", (stop - start)*1000)\n",
    "\n",
    "##################Gather te results ###########################################\n",
    "# sendcouns = local size of result\n",
    "sendcounts = COMM.gather(Local_size, root=0)\n",
    "if RANK == 0:\n",
    "    X = np.zeros(SIZE)\n",
    "else :\n",
    "    X = None\n",
    "\n",
    "COMM.Gatherv(LocalX, [X,sendcounts], root=0)\n",
    "\n",
    "# Gather the result into X\n",
    "##################Print the results ###########################################\n",
    "if RANK == 0 :\n",
    "    #print(sendcounts)\n",
    "    X_ = A.dot(b)\n",
    "    print(\"The result of A*b using dot is :\", np.max(X_ - X))\n",
    "    #print(\"The result of A*b using dot is :\", round(np.max(X_ - np.array(X).reshape(-1))))\n",
    "    #print(\"The result of A*b using parallel version is :\", X)\n",
    "\n"
   ]
  },
  {
   "cell_type": "code",
   "execution_count": 5,
   "id": "50c6d64c",
   "metadata": {
    "ExecuteTime": {
     "end_time": "2024-05-19T12:27:50.893963Z",
     "start_time": "2024-05-19T12:27:50.365985Z"
    }
   },
   "outputs": [
    {
     "name": "stderr",
     "output_type": "stream",
     "text": [
      "Python est introuvable. Exécutez sans argument pour procéder à l\n",
      "Python est introuvable. Exécutez sans argument pour procéder à l\n",
      "Python est introuvable. Exécutez sans argument pour procéder à l\n",
      "Python est introuvable. Exécutez sans argument pour procéder à l\n"
     ]
    }
   ],
   "source": [
    "!mpiexec -n 4 python3 exercise3MVP.py"
   ]
  },
  {
   "cell_type": "code",
   "execution_count": 23,
   "id": "095cc271",
   "metadata": {},
   "outputs": [],
   "source": [
    "import numpy as np\n",
    "import matplotlib.pyplot as plt\n",
    "nombres = [1, 2, 3, 4, 5, 7, 9, 11, 13, 15, 17, 19, 20]\n",
    "CPUtimes = np.array([330.754788, 173.673393, 120.210992, 91.672748, 73.98903299999999, 54.529973000000005, 42.648274, 36.463613, 32.577387, 28.473326, 24.806604999999998, 21.257331, 21.141844])\n",
    "SPDP = CPUtimes[0]/CPUtimes"
   ]
  },
  {
   "cell_type": "code",
   "execution_count": 25,
   "id": "cd211994",
   "metadata": {},
   "outputs": [
    {
     "name": "stderr",
     "output_type": "stream",
     "text": [
      "/tmp/ipykernel_235952/1284323640.py:4: MatplotlibDeprecationWarning: Auto-removal of overlapping axes is deprecated since 3.6 and will be removed two minor releases later; explicitly call ax.remove() as needed.\n",
      "  plt.subplot(2,1,1)\n"
     ]
    },
    {
     "data": {
      "image/png": "[encoded data removed]",
      "text/plain": [
       "<Figure size 432x288 with 2 Axes>"
      ]
     },
     "metadata": {
      "needs_background": "light"
     },
     "output_type": "display_data"
    }
   ],
   "source": [
    "plt.suptitle('Scalability of the implementation')\n",
    "plt.xticks(nombres)\n",
    "\n",
    "plt.subplot(2,1,1)\n",
    "plt.xlabel('Nombres de processus')\n",
    "plt.ylabel('Durees en ms')\n",
    "plt.plot(nombres, CPUtimes,label='Durees en ms',color='m')\n",
    "plt.legend()\n",
    "\n",
    "\n",
    "\n",
    "plt.subplot(2,1,2)\n",
    "plt.xlabel('Nombres de processus')\n",
    "plt.ylabel('Speed up=Ts/Tp')\n",
    "plt.plot(nombres, SPDP,label='Speed ups')\n",
    "plt.legend()\n",
    "plt.show()"
   ]
  }
 ],
 "metadata": {
  "kernelspec": {
   "display_name": "Python 3 (ipykernel)",
   "language": "python",
   "name": "python3"
  },
  "language_info": {
   "codemirror_mode": {
    "name": "ipython",
    "version": 3
   },
   "file_extension": ".py",
   "mimetype": "text/x-python",
   "name": "python",
   "nbconvert_exporter": "python",
   "pygments_lexer": "ipython3",
   "version": "3.10.9"
  }
 },
 "nbformat": 4,
 "nbformat_minor": 5
}
