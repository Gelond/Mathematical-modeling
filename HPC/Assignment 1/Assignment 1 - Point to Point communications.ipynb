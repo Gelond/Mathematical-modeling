{
 "cells": [
  {
   "cell_type": "markdown",
   "id": "66a21693",
   "metadata": {},
   "source": [
    "# Exercise 1: Hello world"
   ]
  },
  {
   "cell_type": "markdown",
   "id": "3b4d1b0f",
   "metadata": {},
   "source": [
    "1) Write an MPI program which prints the message \"Hello World\""
   ]
  },
  {
   "cell_type": "code",
   "execution_count": 1,
   "id": "3fae867b",
   "metadata": {
    "ExecuteTime": {
     "end_time": "2024-04-06T17:29:14.434469Z",
     "start_time": "2024-04-06T17:29:14.410535Z"
    }
   },
   "outputs": [
    {
     "name": "stdout",
     "output_type": "stream",
     "text": [
      "Writing quiz1.py\n"
     ]
    }
   ],
   "source": [
    "%%file quiz1.py\n",
    "from mpi4py import MPI\n",
    "\n",
    "COMM = MPI.COMM_WORLD\n",
    "RANK = COMM.Get_rank()\n",
    "SIZE = COMM.Get_size()\n",
    "\n",
    "# Print \"Hello World\" from each process\n",
    "print(f\"Hello World\" )"
   ]
  },
  {
   "cell_type": "code",
   "execution_count": 2,
   "id": "218962b3",
   "metadata": {
    "ExecuteTime": {
     "end_time": "2024-04-06T17:29:18.231787Z",
     "start_time": "2024-04-06T17:29:17.771711Z"
    }
   },
   "outputs": [
    {
     "name": "stdout",
     "output_type": "stream",
     "text": [
      "Hello World\n",
      "Hello World\n",
      "Hello World\n",
      "Hello World\n"
     ]
    }
   ],
   "source": [
    "!mpiexec -n 4 python quiz1.py"
   ]
  },
  {
   "cell_type": "markdown",
   "id": "e786873c",
   "metadata": {},
   "source": [
    "2. Modify your program so that each process prints out both its rank and the total number of processes P that the code is running on, i.e. the size of MPI_COMM_WORLD."
   ]
  },
  {
   "cell_type": "code",
   "execution_count": 3,
   "id": "61afb7e1",
   "metadata": {
    "ExecuteTime": {
     "end_time": "2024-04-06T17:30:03.914508Z",
     "start_time": "2024-04-06T17:30:03.890544Z"
    }
   },
   "outputs": [
    {
     "name": "stdout",
     "output_type": "stream",
     "text": [
      "Writing quiz2.py\n"
     ]
    }
   ],
   "source": [
    "%%file quiz2.py\n",
    "from mpi4py import MPI\n",
    "\n",
    "COMM = MPI.COMM_WORLD\n",
    "RANK = COMM.Get_rank()\n",
    "SIZE = COMM.Get_size()\n",
    "\n",
    "print(f\"Hello World from process {RANK} of {SIZE}\".format ( RANK = RANK , SIZE = SIZE ) )"
   ]
  },
  {
   "cell_type": "code",
   "execution_count": 4,
   "id": "a49b7102",
   "metadata": {
    "ExecuteTime": {
     "end_time": "2024-04-06T17:30:05.486613Z",
     "start_time": "2024-04-06T17:30:04.969034Z"
    }
   },
   "outputs": [
    {
     "name": "stdout",
     "output_type": "stream",
     "text": [
      "Hello World from process 3 of 4\n",
      "Hello World from process 2 of 4\n",
      "Hello World from process 1 of 4\n",
      "Hello World from process 0 of 4\n"
     ]
    }
   ],
   "source": [
    "!mpiexec -n 4 python quiz2.py"
   ]
  },
  {
   "cell_type": "markdown",
   "id": "e063a421",
   "metadata": {},
   "source": [
    "3. Modify your program so that only a single controller process (e.g. rank 0) prints out a message (very useful when you run with hundreds of processes)."
   ]
  },
  {
   "cell_type": "code",
   "execution_count": 5,
   "id": "e78f5c27",
   "metadata": {
    "ExecuteTime": {
     "end_time": "2024-04-06T17:30:39.729558Z",
     "start_time": "2024-04-06T17:30:39.715219Z"
    }
   },
   "outputs": [
    {
     "name": "stdout",
     "output_type": "stream",
     "text": [
      "Writing quiz3.py\n"
     ]
    }
   ],
   "source": [
    "%%file quiz3.py\n",
    "from mpi4py import MPI\n",
    "\n",
    "COMM = MPI.COMM_WORLD\n",
    "RANK = COMM.Get_rank()\n",
    "SIZE = COMM.Get_size()\n",
    "\n",
    "if RANK == 0:\n",
    "    print(f\"Hello World from process {RANK} of {SIZE}\".format ( RANK = RANK , SIZE = SIZE ) )"
   ]
  },
  {
   "cell_type": "code",
   "execution_count": 6,
   "id": "9dc75742",
   "metadata": {
    "ExecuteTime": {
     "end_time": "2024-04-06T17:30:40.955745Z",
     "start_time": "2024-04-06T17:30:40.338245Z"
    }
   },
   "outputs": [
    {
     "name": "stdout",
     "output_type": "stream",
     "text": [
      "Hello World from process 0 of 4\n"
     ]
    }
   ],
   "source": [
    "!mpiexec -n 4 python quiz3.py"
   ]
  },
  {
   "cell_type": "markdown",
   "id": "7d9e9bf4",
   "metadata": {},
   "source": [
    "4. What happens if you omit the final MPI procedure call in your program?\n",
    "\n",
    "Python le met automatiquement même si on ne le met pas sinon ça ne devrait pas marcher."
   ]
  },
  {
   "cell_type": "markdown",
   "id": "8dcf7f9d",
   "metadata": {},
   "source": [
    "# Exercise 2: Sharing Data"
   ]
  },
  {
   "cell_type": "markdown",
   "id": "646bb6fd",
   "metadata": {},
   "source": [
    "1) Create a program that obtains an integer input from the terminal and distributes it to all the MPI processes. Each process must display its rank and the received value. Keep reading values until a negative integer is entered."
   ]
  },
  {
   "cell_type": "code",
   "execution_count": 9,
   "id": "69d20fde",
   "metadata": {
    "ExecuteTime": {
     "end_time": "2024-04-06T17:33:54.558845Z",
     "start_time": "2024-04-06T17:33:54.538874Z"
    }
   },
   "outputs": [
    {
     "name": "stdout",
     "output_type": "stream",
     "text": [
      "Overwriting exo2.py\n"
     ]
    }
   ],
   "source": [
    "%%file exo2.py\n",
    "\n",
    "from mpi4py import MPI\n",
    "\n",
    "COMM = MPI.COMM_WORLD\n",
    "RANK = COMM.Get_rank()\n",
    "SIZE = COMM.Get_size()\n",
    "\n",
    "a = 0\n",
    "while True:\n",
    "    try:\n",
    "        if RANK == 0:\n",
    "            a = int(input(\"Entrez un entier: \"))\n",
    "            for p in range(1,SIZE):\n",
    "                COMM.send(a, dest = p)\n",
    "                \n",
    "        else:\n",
    "            a = COMM.recv(source = 0)\n",
    "\n",
    "        if a < 0:\n",
    "            break\n",
    "\n",
    "        print(f\"Process {RANK} got {a}\")\n",
    "        \n",
    "    except ValueError:\n",
    "        print(\"Entree invalide.\")"
   ]
  },
  {
   "cell_type": "code",
   "execution_count": 10,
   "id": "30e070c2",
   "metadata": {
    "ExecuteTime": {
     "end_time": "2024-04-06T17:38:13.570397Z",
     "start_time": "2024-04-06T17:34:01.497673Z"
    }
   },
   "outputs": [
    {
     "name": "stdout",
     "output_type": "stream",
     "text": [
      "^C\n"
     ]
    }
   ],
   "source": [
    "!mpiexec -n 4 python exo2.py"
   ]
  },
  {
   "cell_type": "markdown",
   "id": "11bb0496",
   "metadata": {},
   "source": [
    "# Exercise 3: Ping-Pong"
   ]
  },
  {
   "cell_type": "code",
   "execution_count": 142,
   "id": "4bb1ef65",
   "metadata": {},
   "outputs": [
    {
     "name": "stdout",
     "output_type": "stream",
     "text": [
      "Writing exo3.py\n"
     ]
    }
   ],
   "source": [
    "%%file exo3.py\n",
    "\n",
    "from mpi4py import MPI\n",
    "\n",
    "COMM = MPI.COMM_WORLD\n",
    "RANK = COMM.Get_rank()\n",
    "SIZE = COMM.Get_size()\n",
    "\n",
    "itrs = 10\n",
    "a = 0\n",
    "\n",
    "for i in range(itrs):\n",
    "    if RANK == 0:\n",
    "        COMM.send(a, dest=1)\n",
    "        a = COMM.recv(source=1)\n",
    "        print(f\"Iteration {i}: I, process {RANK}, I received {a} from the process 1.\")\n",
    "        \n",
    "    if RANK == 1:\n",
    "        a = COMM.recv(source=0)\n",
    "        print(f\"Iteration {i}: I, process {RANK}, I received {a} from the process 0.\")\n",
    "        a += 1\n",
    "        COMM.send(a, dest=0)\n"
   ]
  },
  {
   "cell_type": "code",
   "execution_count": null,
   "id": "e50af350",
   "metadata": {},
   "outputs": [],
   "source": [
    "!mpiexec -n 4 python exo3.py"
   ]
  },
  {
   "cell_type": "markdown",
   "id": "7f08b5b3",
   "metadata": {},
   "source": [
    "# Exercise 4: Sending in a ring (Broadcast by ring)"
   ]
  },
  {
   "cell_type": "markdown",
   "id": "753f3ce1",
   "metadata": {},
   "source": [
    "Write a program that takes data from process zero and sends it to all of the other processes by sending it in a ring. That is, process i should receive the data add the rank of the process to it then send it to process i+1, until the last process is reached. Assume that the data consists of a single integer. Process zero reads the data from the user, print the process rank and the value received."
   ]
  },
  {
   "cell_type": "code",
   "execution_count": 135,
   "id": "2d48de33",
   "metadata": {},
   "outputs": [
    {
     "name": "stdout",
     "output_type": "stream",
     "text": [
      "Overwriting exo4.py\n"
     ]
    }
   ],
   "source": [
    "%%file exo4.py\n",
    "\n",
    "from mpi4py import MPI\n",
    "\n",
    "COMM = MPI.COMM_WORLD\n",
    "RANK = COMM.Get_rank()\n",
    "SIZE = COMM.Get_size()\n",
    "data = 0\n",
    "if RANK == 0:\n",
    "    try:\n",
    "        data = int(input(\"Entrez un entier: \"))\n",
    "    except ValueError:\n",
    "        print(\"Entree invalide.\")\n",
    "        exit()\n",
    "        \n",
    "    print(f\"I, process {RANK}, I received {data} from the process {RANK}.\")\n",
    "        \n",
    "    COMM.send(data, dest=1)\n",
    "        \n",
    "else:\n",
    "    data = COMM.recv(source=(RANK - 1))\n",
    "    print(f\"I, process {RANK}, I received {data} from the process {(RANK - 1)}.\")\n",
    "\n",
    "    if RANK != SIZE - 1:\n",
    "        data += RANK\n",
    "        COMM.send(data, dest=(RANK + 1))    \n",
    "    "
   ]
  },
  {
   "cell_type": "code",
   "execution_count": null,
   "id": "643d0b52",
   "metadata": {},
   "outputs": [],
   "source": [
    "!mpiexec -n 4 python exo4.py"
   ]
  },
  {
   "cell_type": "markdown",
   "id": "b18b483f",
   "metadata": {},
   "source": [
    "# Exercise 5: Solving 1D advection equation "
   ]
  },
  {
   "cell_type": "markdown",
   "id": "3ee2e0f8",
   "metadata": {},
   "source": [
    "Implement a parallel solver for the 1D advection equation using the function above:"
   ]
  },
  {
   "cell_type": "code",
   "execution_count": 9,
   "id": "a997d0c7",
   "metadata": {},
   "outputs": [
    {
     "name": "stdout",
     "output_type": "stream",
     "text": [
      "Overwriting exo5.py\n"
     ]
    }
   ],
   "source": [
    "%%file exo5.py\n",
    "\n",
    "from mpi4py import MPI\n",
    "import numpy as np\n",
    "import matplotlib.pyplot as plt\n",
    "import time\n",
    "\n",
    "COMM = MPI.COMM_WORLD\n",
    "RANK = COMM.Get_rank()\n",
    "SIZE = COMM.Get_size()\n",
    "\n",
    "start_time = 0\n",
    "end_time = 0\n",
    "\n",
    "def graphe(x,u, ti):\n",
    "    plt.plot(x,u, '-b', label=ti)\n",
    "    plt.grid()\n",
    "    plt.xlabel('x')\n",
    "    plt.ylabel('u')\n",
    "    plt.title('Courbe')\n",
    "    plt.legend()\n",
    "    plt.show()\n",
    "\n",
    "nx = 200\n",
    "try:\n",
    "    assert nx >= SIZE\n",
    "except AssertionError:\n",
    "    print(\"Nombre de processus superieur au nombre de points.\")\n",
    "\n",
    "\n",
    "CFL = 1\n",
    "c = 1\n",
    "L = 1000\n",
    "x = np.linspace(0,L,nx)\n",
    "dx = L/(nx-1)\n",
    "dt = CFL*dx/abs(c)\n",
    "u = np.zeros(nx)\n",
    "\n",
    "for i in range(nx):\n",
    "    if 300 < x[i] < 400:\n",
    "        u[i] = 10\n",
    "    else:\n",
    "        u[i] = 0\n",
    "\n",
    "if RANK==0:\n",
    "    graphe(x,u,\"Solution initiale\")\n",
    "\n",
    "def solve_1d_linearconv(u, un, nt, nx, dt, dx, c):\n",
    "\n",
    "    for n in range(nt):  \n",
    "        un = np.copy(u)\n",
    "        \n",
    "        for i in range(1, nx): \n",
    "            u[i] = un[i] - c * dt / dx * (un[i] - un[i-1])\n",
    "            \n",
    "        # Envoi des bords au processus voisin\n",
    "        if RANK < SIZE-1:\n",
    "            COMM.send(u[-1], dest=RANK+1, tag=2)\n",
    "        if RANK != 0:\n",
    "            u[0] = COMM.recv(source=RANK - 1, tag=2)\n",
    "            \n",
    "    return 0\n",
    "\n",
    "#---------------------------\n",
    "# Calcul ||\n",
    "#---------------------------\n",
    "\n",
    "start_time = time.time()\n",
    "\n",
    "if RANK == 0:\n",
    "    # Le partage du domaine aux process\n",
    "    u_loc = np.array_split(u,SIZE)\n",
    "    \n",
    "    for i in range(SIZE-1):\n",
    "        u_loc[i+1] = np.insert(u_loc[i+1], 0, u_loc[i][-1])\n",
    "        \n",
    "    # L'envoi des domaines à chaque process\n",
    "    for process in range(SIZE):\n",
    "        COMM.send(u_loc[process], dest=process, tag=0)\n",
    "\n",
    "# Reception des domaines et calcul\n",
    "u = COMM.recv(source = 0, tag = 0)\n",
    "nx = len(u)\n",
    "un = np.zeros(nx)\n",
    "nt = 10\n",
    "\n",
    "solve_1d_linearconv(u, un, nt, nx, dt, dx, c)\n",
    "COMM.send(u[1:], dest=0, tag=1)\n",
    "\n",
    "u_final = np.array([0])\n",
    "if RANK == 0:\n",
    "    for i in range(SIZE):\n",
    "        un_loc = COMM.recv(source=i, tag=1)\n",
    "        u_final = np.concatenate((u_final, un_loc))\n",
    "        \n",
    "    graphe(x,un, \"Solution finale\")\n",
    "    \n",
    "end_time = time.time()\n",
    "total_time = end_time - start_time\n"
   ]
  },
  {
   "cell_type": "code",
   "execution_count": null,
   "id": "12b0073b",
   "metadata": {},
   "outputs": [],
   "source": [
    "!mpiexec -n 4 python exo5.py"
   ]
  }
 ],
 "metadata": {
  "kernelspec": {
   "display_name": "Python 3 (ipykernel)",
   "language": "python",
   "name": "python3"
  },
  "language_info": {
   "codemirror_mode": {
    "name": "ipython",
    "version": 3
   },
   "file_extension": ".py",
   "mimetype": "text/x-python",
   "name": "python",
   "nbconvert_exporter": "python",
   "pygments_lexer": "ipython3",
   "version": "3.10.9"
  }
 },
 "nbformat": 4,
 "nbformat_minor": 5
}
